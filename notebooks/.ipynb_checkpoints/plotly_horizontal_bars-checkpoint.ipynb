{
 "cells": [
  {
   "cell_type": "code",
   "execution_count": 3,
   "metadata": {},
   "outputs": [
    {
     "data": {
      "text/html": [
       "        <script type=\"text/javascript\">\n",
       "        window.PlotlyConfig = {MathJaxConfig: 'local'};\n",
       "        if (window.MathJax) {MathJax.Hub.Config({SVG: {font: \"STIX-Web\"}});}\n",
       "        if (typeof require !== 'undefined') {\n",
       "        require.undef(\"plotly\");\n",
       "        requirejs.config({\n",
       "            paths: {\n",
       "                'plotly': ['https://cdn.plot.ly/plotly-latest.min']\n",
       "            }\n",
       "        });\n",
       "        require(['plotly'], function(Plotly) {\n",
       "            window._Plotly = Plotly;\n",
       "        });\n",
       "        }\n",
       "        </script>\n",
       "        "
      ]
     },
     "metadata": {},
     "output_type": "display_data"
    }
   ],
   "source": [
    "import pandas as pd\n",
    "import numpy as np\n",
    "import holoviews as hv\n",
    "from math import pi\n",
    "import plotly.offline as ply\n",
    "import plotly.graph_objs as go\n",
    "from plotly.offline import download_plotlyjs, init_notebook_mode, plot, iplot\n",
    "\n",
    "\n",
    "init_notebook_mode(connected=True)"
   ]
  },
  {
   "cell_type": "code",
   "execution_count": 4,
   "metadata": {},
   "outputs": [],
   "source": [
    "data = pd.read_csv('/Users/michael.chestnut/Documents/DOI/data/cleaned_data.csv')"
   ]
  },
  {
   "cell_type": "code",
   "execution_count": 5,
   "metadata": {},
   "outputs": [
    {
     "data": {
      "text/html": [
       "<div>\n",
       "<style scoped>\n",
       "    .dataframe tbody tr th:only-of-type {\n",
       "        vertical-align: middle;\n",
       "    }\n",
       "\n",
       "    .dataframe tbody tr th {\n",
       "        vertical-align: top;\n",
       "    }\n",
       "\n",
       "    .dataframe thead th {\n",
       "        text-align: right;\n",
       "    }\n",
       "</style>\n",
       "<table border=\"1\" class=\"dataframe\">\n",
       "  <thead>\n",
       "    <tr style=\"text-align: right;\">\n",
       "      <th></th>\n",
       "      <th>UII</th>\n",
       "      <th>bureau_name</th>\n",
       "      <th>portfolio_part</th>\n",
       "      <th>investment_title</th>\n",
       "      <th>fea_service_area</th>\n",
       "      <th>FY18</th>\n",
       "      <th>FY19</th>\n",
       "      <th>FY20</th>\n",
       "      <th>date</th>\n",
       "    </tr>\n",
       "  </thead>\n",
       "  <tbody>\n",
       "    <tr>\n",
       "      <th>0</th>\n",
       "      <td>010-000002256</td>\n",
       "      <td>Department of the Interior</td>\n",
       "      <td>IT</td>\n",
       "      <td>IBC - Infrastructure - IT Security &amp; Compliance</td>\n",
       "      <td>315 - Threat and Vulnerability Management</td>\n",
       "      <td>0.000000</td>\n",
       "      <td>0.000000</td>\n",
       "      <td>0.000000</td>\n",
       "      <td>2019-04-03</td>\n",
       "    </tr>\n",
       "    <tr>\n",
       "      <th>1</th>\n",
       "      <td>010-000002378</td>\n",
       "      <td>Department of the Interior</td>\n",
       "      <td>Admin Services</td>\n",
       "      <td>DOI - FOIA Portal (DOJ)</td>\n",
       "      <td>319 - Regulatory Compliance</td>\n",
       "      <td>0.000000</td>\n",
       "      <td>0.030000</td>\n",
       "      <td>0.030000</td>\n",
       "      <td>2019-04-03</td>\n",
       "    </tr>\n",
       "    <tr>\n",
       "      <th>2</th>\n",
       "      <td>010-000001448</td>\n",
       "      <td>Department of the Interior</td>\n",
       "      <td>Mission Delivery</td>\n",
       "      <td>OS - Receipts Expenditures and Allocation Mode...</td>\n",
       "      <td>101 - Budget Formulation</td>\n",
       "      <td>0.095000</td>\n",
       "      <td>0.103000</td>\n",
       "      <td>0.101000</td>\n",
       "      <td>2019-04-03</td>\n",
       "    </tr>\n",
       "    <tr>\n",
       "      <th>3</th>\n",
       "      <td>010-000000310</td>\n",
       "      <td>Department of the Interior</td>\n",
       "      <td>Admin Services</td>\n",
       "      <td>DOI - Enterprise Facilities Maintenance &amp; Mana...</td>\n",
       "      <td>129 - Reporting and Information</td>\n",
       "      <td>5.175915</td>\n",
       "      <td>5.175962</td>\n",
       "      <td>5.259022</td>\n",
       "      <td>2019-04-03</td>\n",
       "    </tr>\n",
       "    <tr>\n",
       "      <th>4</th>\n",
       "      <td>010-000002321</td>\n",
       "      <td>Department of the Interior</td>\n",
       "      <td>Admin Services</td>\n",
       "      <td>DOI - Compliance Support ESF-11/ESF-11 Website</td>\n",
       "      <td>008 - Disaster Preparedness and Planning</td>\n",
       "      <td>0.090902</td>\n",
       "      <td>0.106702</td>\n",
       "      <td>0.090902</td>\n",
       "      <td>2019-04-03</td>\n",
       "    </tr>\n",
       "  </tbody>\n",
       "</table>\n",
       "</div>"
      ],
      "text/plain": [
       "             UII                 bureau_name    portfolio_part  \\\n",
       "0  010-000002256  Department of the Interior                IT   \n",
       "1  010-000002378  Department of the Interior    Admin Services   \n",
       "2  010-000001448  Department of the Interior  Mission Delivery   \n",
       "3  010-000000310  Department of the Interior    Admin Services   \n",
       "4  010-000002321  Department of the Interior    Admin Services   \n",
       "\n",
       "                                    investment_title  \\\n",
       "0    IBC - Infrastructure - IT Security & Compliance   \n",
       "1                            DOI - FOIA Portal (DOJ)   \n",
       "2  OS - Receipts Expenditures and Allocation Mode...   \n",
       "3  DOI - Enterprise Facilities Maintenance & Mana...   \n",
       "4     DOI - Compliance Support ESF-11/ESF-11 Website   \n",
       "\n",
       "                            fea_service_area      FY18      FY19      FY20  \\\n",
       "0  315 - Threat and Vulnerability Management  0.000000  0.000000  0.000000   \n",
       "1               319 - Regulatory Compliance   0.000000  0.030000  0.030000   \n",
       "2                   101 - Budget Formulation  0.095000  0.103000  0.101000   \n",
       "3            129 - Reporting and Information  5.175915  5.175962  5.259022   \n",
       "4   008 - Disaster Preparedness and Planning  0.090902  0.106702  0.090902   \n",
       "\n",
       "         date  \n",
       "0  2019-04-03  \n",
       "1  2019-04-03  \n",
       "2  2019-04-03  \n",
       "3  2019-04-03  \n",
       "4  2019-04-03  "
      ]
     },
     "execution_count": 5,
     "metadata": {},
     "output_type": "execute_result"
    }
   ],
   "source": [
    "df = data.drop(columns='Unnamed: 0')\n",
    "df.head(5)"
   ]
  },
  {
   "cell_type": "code",
   "execution_count": 6,
   "metadata": {},
   "outputs": [
    {
     "data": {
      "text/html": [
       "<div>\n",
       "<style scoped>\n",
       "    .dataframe tbody tr th:only-of-type {\n",
       "        vertical-align: middle;\n",
       "    }\n",
       "\n",
       "    .dataframe tbody tr th {\n",
       "        vertical-align: top;\n",
       "    }\n",
       "\n",
       "    .dataframe thead th {\n",
       "        text-align: right;\n",
       "    }\n",
       "</style>\n",
       "<table border=\"1\" class=\"dataframe\">\n",
       "  <thead>\n",
       "    <tr style=\"text-align: right;\">\n",
       "      <th></th>\n",
       "      <th>UII</th>\n",
       "      <th>bureau_name</th>\n",
       "      <th>portfolio_part</th>\n",
       "      <th>investment_title</th>\n",
       "      <th>fea_service_area</th>\n",
       "      <th>FY18</th>\n",
       "      <th>FY19</th>\n",
       "      <th>FY20</th>\n",
       "      <th>date</th>\n",
       "      <th>trimmed_investment_title</th>\n",
       "    </tr>\n",
       "  </thead>\n",
       "  <tbody>\n",
       "    <tr>\n",
       "      <th>0</th>\n",
       "      <td>010-000002256</td>\n",
       "      <td>Department of the Interior</td>\n",
       "      <td>IT</td>\n",
       "      <td>IBC - Infrastructure - IT Security &amp; Compliance</td>\n",
       "      <td>315 - Threat and Vulnerability Management</td>\n",
       "      <td>0.000000</td>\n",
       "      <td>0.000000</td>\n",
       "      <td>0.000000</td>\n",
       "      <td>2019-04-03</td>\n",
       "      <td>Infrastructure - IT Security &amp; Compliance</td>\n",
       "    </tr>\n",
       "    <tr>\n",
       "      <th>1</th>\n",
       "      <td>010-000002378</td>\n",
       "      <td>Department of the Interior</td>\n",
       "      <td>Admin Services</td>\n",
       "      <td>DOI - FOIA Portal (DOJ)</td>\n",
       "      <td>319 - Regulatory Compliance</td>\n",
       "      <td>0.000000</td>\n",
       "      <td>0.030000</td>\n",
       "      <td>0.030000</td>\n",
       "      <td>2019-04-03</td>\n",
       "      <td>FOIA Portal (DOJ)</td>\n",
       "    </tr>\n",
       "    <tr>\n",
       "      <th>2</th>\n",
       "      <td>010-000001448</td>\n",
       "      <td>Department of the Interior</td>\n",
       "      <td>Mission Delivery</td>\n",
       "      <td>OS - Receipts Expenditures and Allocation Mode...</td>\n",
       "      <td>101 - Budget Formulation</td>\n",
       "      <td>0.095000</td>\n",
       "      <td>0.103000</td>\n",
       "      <td>0.101000</td>\n",
       "      <td>2019-04-03</td>\n",
       "      <td>Receipts Expenditures and Allocation Model (R...</td>\n",
       "    </tr>\n",
       "    <tr>\n",
       "      <th>3</th>\n",
       "      <td>010-000000310</td>\n",
       "      <td>Department of the Interior</td>\n",
       "      <td>Admin Services</td>\n",
       "      <td>DOI - Enterprise Facilities Maintenance &amp; Mana...</td>\n",
       "      <td>129 - Reporting and Information</td>\n",
       "      <td>5.175915</td>\n",
       "      <td>5.175962</td>\n",
       "      <td>5.259022</td>\n",
       "      <td>2019-04-03</td>\n",
       "      <td>Enterprise Facilities Maintenance &amp; Managemen...</td>\n",
       "    </tr>\n",
       "    <tr>\n",
       "      <th>4</th>\n",
       "      <td>010-000002321</td>\n",
       "      <td>Department of the Interior</td>\n",
       "      <td>Admin Services</td>\n",
       "      <td>DOI - Compliance Support ESF-11/ESF-11 Website</td>\n",
       "      <td>008 - Disaster Preparedness and Planning</td>\n",
       "      <td>0.090902</td>\n",
       "      <td>0.106702</td>\n",
       "      <td>0.090902</td>\n",
       "      <td>2019-04-03</td>\n",
       "      <td>Compliance Support ESF-11/ESF-11 Website</td>\n",
       "    </tr>\n",
       "  </tbody>\n",
       "</table>\n",
       "</div>"
      ],
      "text/plain": [
       "             UII                 bureau_name    portfolio_part  \\\n",
       "0  010-000002256  Department of the Interior                IT   \n",
       "1  010-000002378  Department of the Interior    Admin Services   \n",
       "2  010-000001448  Department of the Interior  Mission Delivery   \n",
       "3  010-000000310  Department of the Interior    Admin Services   \n",
       "4  010-000002321  Department of the Interior    Admin Services   \n",
       "\n",
       "                                    investment_title  \\\n",
       "0    IBC - Infrastructure - IT Security & Compliance   \n",
       "1                            DOI - FOIA Portal (DOJ)   \n",
       "2  OS - Receipts Expenditures and Allocation Mode...   \n",
       "3  DOI - Enterprise Facilities Maintenance & Mana...   \n",
       "4     DOI - Compliance Support ESF-11/ESF-11 Website   \n",
       "\n",
       "                            fea_service_area      FY18      FY19      FY20  \\\n",
       "0  315 - Threat and Vulnerability Management  0.000000  0.000000  0.000000   \n",
       "1               319 - Regulatory Compliance   0.000000  0.030000  0.030000   \n",
       "2                   101 - Budget Formulation  0.095000  0.103000  0.101000   \n",
       "3            129 - Reporting and Information  5.175915  5.175962  5.259022   \n",
       "4   008 - Disaster Preparedness and Planning  0.090902  0.106702  0.090902   \n",
       "\n",
       "         date                           trimmed_investment_title  \n",
       "0  2019-04-03          Infrastructure - IT Security & Compliance  \n",
       "1  2019-04-03                                  FOIA Portal (DOJ)  \n",
       "2  2019-04-03   Receipts Expenditures and Allocation Model (R...  \n",
       "3  2019-04-03   Enterprise Facilities Maintenance & Managemen...  \n",
       "4  2019-04-03           Compliance Support ESF-11/ESF-11 Website  "
      ]
     },
     "execution_count": 6,
     "metadata": {},
     "output_type": "execute_result"
    }
   ],
   "source": [
    "df['trimmed_investment_title'] = df['investment_title'].str.split('-',1).str[1]\n",
    "df.head(5)"
   ]
  },
  {
   "cell_type": "code",
   "execution_count": 7,
   "metadata": {},
   "outputs": [],
   "source": [
    "def assign_colors(portfolio):\n",
    "    if portfolio == 'IT':\n",
    "        return '#8dd3c7'\n",
    "    elif portfolio == 'Mission Delivery':\n",
    "        return '#ffffb3'\n",
    "    else:\n",
    "        return '#bebada'"
   ]
  },
  {
   "cell_type": "code",
   "execution_count": 9,
   "metadata": {},
   "outputs": [
    {
     "data": {
      "application/vnd.plotly.v1+json": {
       "config": {
        "linkText": "Export to plot.ly",
        "plotlyServerURL": "https://plot.ly",
        "showLink": false
       },
       "data": [
        {
         "marker": {
          "color": [
           "#8dd3c7",
           "#8dd3c7",
           "#8dd3c7",
           "#8dd3c7",
           "#8dd3c7",
           "#8dd3c7"
          ]
         },
         "name": "IT",
         "orientation": "h",
         "type": "bar",
         "uid": "64e3349c-0148-4ae8-956f-0e007fd2235d",
         "x": [
          188.165226,
          111.677769,
          43.980184,
          32.446904,
          25.417073,
          6.4566
         ],
         "y": [
          " Infrastructure - Network (WAN)",
          " Infrastructure - IT Management",
          " Infrastructure - IT Security & Compliance",
          " Infrastructure - Data Center & Cloud",
          " Infrastructure - End User",
          " Infrastructure - Local Area Network"
         ]
        },
        {
         "marker": {
          "color": [
           "#bebada",
           "#bebada",
           "#bebada"
          ]
         },
         "name": "Admin Services",
         "orientation": "h",
         "type": "bar",
         "uid": "7612e71a-6c47-4346-a203-e0512e6ff3f9",
         "x": [
          57.93892,
          15.220567,
          5.175915
         ],
         "y": [
          " Financial and Business Management System (FBMS)",
          " IBC Shared Service Center (HRLOB)",
          " Enterprise Facilities Maintenance & Management System (FMMS)"
         ]
        },
        {
         "marker": {
          "color": [
           "#ffffb3"
          ]
         },
         "name": "Mission Delivery",
         "orientation": "h",
         "type": "bar",
         "uid": "c56e27ed-6c6d-4f06-9911-0f3d338c0d8f",
         "x": [
          4.4675
         ],
         "y": [
          " Interior Museum Collection Management System (IMCMS)"
         ]
        }
       ],
       "layout": {
        "margin": {
         "b": 50,
         "l": 400,
         "pad": 4,
         "r": 50,
         "t": 50
        },
        "showlegend": true,
        "xaxis": {
         "title": {
          "text": "FY18 Spending (In Millions)"
         }
        }
       }
      },
      "text/html": [
       "<div>\n",
       "        \n",
       "        \n",
       "            <div id=\"a74148d2-ab56-415a-8fa2-9dbf2cb9fbae\" class=\"plotly-graph-div\" style=\"height:525px; width:100%;\"></div>\n",
       "            <script type=\"text/javascript\">\n",
       "                require([\"plotly\"], function(Plotly) {\n",
       "                    window.PLOTLYENV=window.PLOTLYENV || {};\n",
       "                    window.PLOTLYENV.BASE_URL='https://plot.ly';\n",
       "                    \n",
       "                if (document.getElementById(\"a74148d2-ab56-415a-8fa2-9dbf2cb9fbae\")) {\n",
       "                    Plotly.newPlot(\n",
       "                        'a74148d2-ab56-415a-8fa2-9dbf2cb9fbae',\n",
       "                        [{\"marker\": {\"color\": [\"#8dd3c7\", \"#8dd3c7\", \"#8dd3c7\", \"#8dd3c7\", \"#8dd3c7\", \"#8dd3c7\"]}, \"name\": \"IT\", \"orientation\": \"h\", \"type\": \"bar\", \"uid\": \"64e3349c-0148-4ae8-956f-0e007fd2235d\", \"x\": [188.165226, 111.677769, 43.980184, 32.446904, 25.417073, 6.4566], \"y\": [\" Infrastructure - Network (WAN)\", \" Infrastructure - IT Management\", \" Infrastructure - IT Security & Compliance\", \" Infrastructure - Data Center & Cloud\", \" Infrastructure - End User\", \" Infrastructure - Local Area Network\"]}, {\"marker\": {\"color\": [\"#bebada\", \"#bebada\", \"#bebada\"]}, \"name\": \"Admin Services\", \"orientation\": \"h\", \"type\": \"bar\", \"uid\": \"7612e71a-6c47-4346-a203-e0512e6ff3f9\", \"x\": [57.93892, 15.220567, 5.175915], \"y\": [\" Financial and Business Management System (FBMS)\", \" IBC Shared Service Center (HRLOB)\", \" Enterprise Facilities Maintenance & Management System (FMMS)\"]}, {\"marker\": {\"color\": [\"#ffffb3\"]}, \"name\": \"Mission Delivery\", \"orientation\": \"h\", \"type\": \"bar\", \"uid\": \"c56e27ed-6c6d-4f06-9911-0f3d338c0d8f\", \"x\": [4.4675], \"y\": [\" Interior Museum Collection Management System (IMCMS)\"]}],\n",
       "                        {\"margin\": {\"b\": 50, \"l\": 400, \"pad\": 4, \"r\": 50, \"t\": 50}, \"showlegend\": true, \"xaxis\": {\"title\": {\"text\": \"FY18 Spending (In Millions)\"}}},\n",
       "                        {\"showLink\": false, \"linkText\": \"Export to plot.ly\", \"plotlyServerURL\": \"https://plot.ly\", \"responsive\": true}\n",
       "                    ).then(function(){\n",
       "                            \n",
       "var gd = document.getElementById('a74148d2-ab56-415a-8fa2-9dbf2cb9fbae');\n",
       "var x = new MutationObserver(function (mutations, observer) {{\n",
       "        var display = window.getComputedStyle(gd).display;\n",
       "        if (!display || display === 'none') {{\n",
       "            console.log([gd, 'removed!']);\n",
       "            Plotly.purge(gd);\n",
       "            observer.disconnect();\n",
       "        }}\n",
       "}});\n",
       "\n",
       "// Listen for the removal of the full notebook cells\n",
       "var notebookContainer = gd.closest('#notebook-container');\n",
       "if (notebookContainer) {{\n",
       "    x.observe(notebookContainer, {childList: true});\n",
       "}}\n",
       "\n",
       "// Listen for the clearing of the current output cell\n",
       "var outputEl = gd.closest('.output');\n",
       "if (outputEl) {{\n",
       "    x.observe(outputEl, {childList: true});\n",
       "}}\n",
       "\n",
       "                        })\n",
       "                };\n",
       "                });\n",
       "            </script>\n",
       "        </div>"
      ]
     },
     "metadata": {},
     "output_type": "display_data"
    }
   ],
   "source": [
    "def update_bars(bureau='Department of the Interior',fy='FY18'):\n",
    "    filtered_df = df[['bureau_name','portfolio_part','trimmed_investment_title',fy]]\n",
    "    filtered_df = filtered_df[filtered_df['bureau_name']==bureau]\n",
    "    \n",
    "    #Sort and return top 10 based on FY values\n",
    "    top10 = filtered_df.nlargest(10,fy)\n",
    "    top10['color'] = top10['portfolio_part'].apply(assign_colors)\n",
    "    \n",
    "    #Fill in chart data and layout information\n",
    "    data=[]\n",
    "    for i in range(0, len(pd.unique(top10['portfolio_part']))):\n",
    "        data.append(go.Bar(\n",
    "            x= top10[fy][top10['portfolio_part'] == pd.unique(top10['portfolio_part'])[i]],\n",
    "            y= top10['trimmed_investment_title'][top10['portfolio_part'] == pd.unique(top10['portfolio_part'])[i]],\n",
    "            name= pd.unique(top10['portfolio_part'])[i],\n",
    "            orientation= 'h',\n",
    "            marker=dict(\n",
    "                color = top10['color'][top10['portfolio_part'] == pd.unique(top10['portfolio_part'])[i]]\n",
    "            )   \n",
    "        ))\n",
    "            \n",
    "    layout = go.Layout(\n",
    "        margin = dict(l = 400, r = 50, b = 50, t = 50, pad = 4),\n",
    "        xaxis=dict(\n",
    "            title=str(fy) +' Spending (In Millions)'),\n",
    "        showlegend=True\n",
    "    )\n",
    "    \n",
    "    fig = go.Figure(data=data,layout=layout)\n",
    "    ply.iplot(fig, filename='horizontal-bar')\n",
    "    \n",
    "update_bars()"
   ]
  },
  {
   "cell_type": "code",
   "execution_count": null,
   "metadata": {},
   "outputs": [],
   "source": []
  }
 ],
 "metadata": {
  "kernelspec": {
   "display_name": "Python 3",
   "language": "python",
   "name": "python3"
  },
  "language_info": {
   "codemirror_mode": {
    "name": "ipython",
    "version": 3
   },
   "file_extension": ".py",
   "mimetype": "text/x-python",
   "name": "python",
   "nbconvert_exporter": "python",
   "pygments_lexer": "ipython3",
   "version": "3.7.1"
  }
 },
 "nbformat": 4,
 "nbformat_minor": 2
}
